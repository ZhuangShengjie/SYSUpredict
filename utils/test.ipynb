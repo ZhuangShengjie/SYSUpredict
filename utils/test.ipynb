{
 "cells": [
  {
   "cell_type": "code",
   "execution_count": 1,
   "metadata": {
    "collapsed": true
   },
   "outputs": [],
   "source": [
    "import pygrib"
   ]
  },
  {
   "cell_type": "code",
   "execution_count": 4,
   "outputs": [],
   "source": [
    "path = '/home/stanlyyp/py/test_dj/SYSU_predict/data/database/forecast/monthly_ori/20230704/pgbf.01.2023030106.202303.avrg.grib.grb2'"
   ],
   "metadata": {
    "collapsed": false
   }
  },
  {
   "cell_type": "code",
   "execution_count": 5,
   "outputs": [],
   "source": [
    "grbs = pygrib.open(path)"
   ],
   "metadata": {
    "collapsed": false
   }
  },
  {
   "cell_type": "code",
   "execution_count": 8,
   "outputs": [],
   "source": [
    "name = 'Geopotential Height'\n",
    "type = 'isobaricInhPa'\n",
    "level = [200, 500, 700, 850, 925]\n",
    "var_list = grbs.select(name=name, typeOfLevel=type, level=level)"
   ],
   "metadata": {
    "collapsed": false
   }
  },
  {
   "cell_type": "code",
   "execution_count": 9,
   "outputs": [],
   "source": [
    "import os"
   ],
   "metadata": {
    "collapsed": false
   }
  },
  {
   "cell_type": "code",
   "execution_count": 10,
   "outputs": [
    {
     "data": {
      "text/plain": "['pgbf.01.2023050106.202305.avrg.grib.grb2',\n 'pgbf.01.2023070406.202311.avrg.grib.grb2',\n 'pgbf.01.2023070406.202310.avrg.grib.grb2',\n 'pgbf.01.2023060106.202306.avrg.grib.grb2',\n 'pgbf.01.2023040106.202304.avrg.grib.grb2',\n 'pgbf.01.2023030106.202303.avrg.grib.grb2',\n 'pgbf.01.2023070406.202312.avrg.grib.grb2',\n 'pgbf.01.2023070406.202307.avrg.grib.grb2',\n 'pgbf.01.2023070406.202308.avrg.grib.grb2',\n 'pgbf.01.2023070406.202309.avrg.grib.grb2',\n 'flxf']"
     },
     "execution_count": 10,
     "metadata": {},
     "output_type": "execute_result"
    }
   ],
   "source": [
    "os.listdir('/home/stanlyyp/py/test_dj/SYSU_predict/data/database/forecast/monthly_ori/20230704/')"
   ],
   "metadata": {
    "collapsed": false
   }
  },
  {
   "cell_type": "code",
   "execution_count": null,
   "outputs": [],
   "source": [
    "basepath = '/home/stanlyyp/py/test_dj/SYSU_predict/data/database/forecast/monthly_ori/20230704/'\n",
    "for fname in os.listdir(basepath):\n",
    "    path = os.path.join(basepath, fname)\n",
    "    if os.path.isdir(path)"
   ],
   "metadata": {
    "collapsed": false
   }
  }
 ],
 "metadata": {
  "kernelspec": {
   "display_name": "Python 3",
   "language": "python",
   "name": "python3"
  },
  "language_info": {
   "codemirror_mode": {
    "name": "ipython",
    "version": 2
   },
   "file_extension": ".py",
   "mimetype": "text/x-python",
   "name": "python",
   "nbconvert_exporter": "python",
   "pygments_lexer": "ipython2",
   "version": "2.7.6"
  }
 },
 "nbformat": 4,
 "nbformat_minor": 0
}
